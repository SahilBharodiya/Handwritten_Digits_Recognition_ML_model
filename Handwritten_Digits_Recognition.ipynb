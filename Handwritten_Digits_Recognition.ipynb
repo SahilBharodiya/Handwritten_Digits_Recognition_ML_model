{
  "nbformat": 4,
  "nbformat_minor": 0,
  "metadata": {
    "colab": {
      "name": "Handwritten_Digits_Recognition.ipynb",
      "provenance": [],
      "collapsed_sections": []
    },
    "kernelspec": {
      "name": "python3",
      "display_name": "Python 3"
    }
  },
  "cells": [
    {
      "cell_type": "code",
      "metadata": {
        "id": "1r46c_MzoYq4"
      },
      "source": [
        "%tensorflow_version 2.x\r\n",
        "import tensorflow as tf\r\n",
        "from tensorflow import keras\r\n",
        "\r\n",
        "import numpy as np\r\n",
        "import matplotlib.pyplot as plt\r\n",
        "import random"
      ],
      "execution_count": 1,
      "outputs": []
    },
    {
      "cell_type": "code",
      "metadata": {
        "id": "osEeT8kVochF",
        "colab": {
          "base_uri": "https://localhost:8080/"
        },
        "outputId": "24ebdf3c-0cb6-4a71-b8a4-61c0ea26c3e2"
      },
      "source": [
        "(train_images, train_labels), (test_images, test_labels) = tf.keras.datasets.mnist.load_data(path=\"mnist.npz\")\r\n",
        "# loading dataset and spliting into training and testing"
      ],
      "execution_count": 2,
      "outputs": [
        {
          "output_type": "stream",
          "text": [
            "Downloading data from https://storage.googleapis.com/tensorflow/tf-keras-datasets/mnist.npz\n",
            "11493376/11490434 [==============================] - 0s 0us/step\n"
          ],
          "name": "stdout"
        }
      ]
    },
    {
      "cell_type": "code",
      "metadata": {
        "colab": {
          "base_uri": "https://localhost:8080/",
          "height": 265
        },
        "id": "AiDXziIko43h",
        "outputId": "c3928dfc-b240-447b-ccc3-fc3d77e04994"
      },
      "source": [
        "# let's look at what some of these images look like!\r\n",
        "plt.figure()\r\n",
        "plt.imshow(train_images[1])\r\n",
        "plt.colorbar()\r\n",
        "plt.grid(False)\r\n",
        "plt.show()"
      ],
      "execution_count": 3,
      "outputs": [
        {
          "output_type": "display_data",
          "data": {
            "image/png": "[encoded data removed]",
            "text/plain": [
              "<Figure size 432x288 with 2 Axes>"
            ]
          },
          "metadata": {
            "tags": [],
            "needs_background": "light"
          }
        }
      ]
    },
    {
      "cell_type": "code",
      "metadata": {
        "id": "oeUg3SQgo7i9"
      },
      "source": [
        "train_images = train_images / 255.0\r\n",
        "\r\n",
        "test_images = test_images / 255.0"
      ],
      "execution_count": 4,
      "outputs": []
    },
    {
      "cell_type": "code",
      "metadata": {
        "id": "QFldzupLo-It"
      },
      "source": [
        "model = keras.Sequential([\r\n",
        "    keras.layers.Flatten(input_shape=(28, 28)),\r\n",
        "    keras.layers.Dense(14, activation='relu'), \r\n",
        "    keras.layers.Dense(14, activation='relu'), \r\n",
        "    keras.layers.Dense(10, activation='softmax')\r\n",
        "])"
      ],
      "execution_count": 21,
      "outputs": []
    },
    {
      "cell_type": "code",
      "metadata": {
        "id": "7Cx6LcEwpFm9"
      },
      "source": [
        "model.compile(optimizer='adam',\r\n",
        "              loss='sparse_categorical_crossentropy',\r\n",
        "              metrics=['accuracy'])"
      ],
      "execution_count": 22,
      "outputs": []
    },
    {
      "cell_type": "code",
      "metadata": {
        "colab": {
          "base_uri": "https://localhost:8080/"
        },
        "id": "KCxyYDqgpIWK",
        "outputId": "e2578f97-fe7e-41f4-8374-18bc8ed4675d"
      },
      "source": [
        "model.fit(train_images, train_labels, epochs=15)  "
      ],
      "execution_count": 23,
      "outputs": [
        {
          "output_type": "stream",
          "text": [
            "Epoch 1/15\n",
            "1875/1875 [==============================] - 3s 1ms/step - loss: 0.7926 - accuracy: 0.7573\n",
            "Epoch 2/15\n",
            "1875/1875 [==============================] - 3s 1ms/step - loss: 0.2495 - accuracy: 0.9288\n",
            "Epoch 3/15\n",
            "1875/1875 [==============================] - 3s 1ms/step - loss: 0.2129 - accuracy: 0.9390\n",
            "Epoch 4/15\n",
            "1875/1875 [==============================] - 2s 1ms/step - loss: 0.1886 - accuracy: 0.9448\n",
            "Epoch 5/15\n",
            "1875/1875 [==============================] - 3s 1ms/step - loss: 0.1706 - accuracy: 0.9503\n",
            "Epoch 6/15\n",
            "1875/1875 [==============================] - 2s 1ms/step - loss: 0.1638 - accuracy: 0.9518\n",
            "Epoch 7/15\n",
            "1875/1875 [==============================] - 3s 1ms/step - loss: 0.1507 - accuracy: 0.9563\n",
            "Epoch 8/15\n",
            "1875/1875 [==============================] - 2s 1ms/step - loss: 0.1474 - accuracy: 0.9581\n",
            "Epoch 9/15\n",
            "1875/1875 [==============================] - 3s 1ms/step - loss: 0.1424 - accuracy: 0.9579\n",
            "Epoch 10/15\n",
            "1875/1875 [==============================] - 2s 1ms/step - loss: 0.1387 - accuracy: 0.9608\n",
            "Epoch 11/15\n",
            "1875/1875 [==============================] - 3s 1ms/step - loss: 0.1320 - accuracy: 0.9611\n",
            "Epoch 12/15\n",
            "1875/1875 [==============================] - 2s 1ms/step - loss: 0.1316 - accuracy: 0.9610\n",
            "Epoch 13/15\n",
            "1875/1875 [==============================] - 2s 1ms/step - loss: 0.1257 - accuracy: 0.9627\n",
            "Epoch 14/15\n",
            "1875/1875 [==============================] - 2s 1ms/step - loss: 0.1251 - accuracy: 0.9629\n",
            "Epoch 15/15\n",
            "1875/1875 [==============================] - 2s 1ms/step - loss: 0.1187 - accuracy: 0.9644\n"
          ],
          "name": "stdout"
        },
        {
          "output_type": "execute_result",
          "data": {
            "text/plain": [
              "<tensorflow.python.keras.callbacks.History at 0x7f3f1775b6d8>"
            ]
          },
          "metadata": {
            "tags": []
          },
          "execution_count": 23
        }
      ]
    },
    {
      "cell_type": "code",
      "metadata": {
        "colab": {
          "base_uri": "https://localhost:8080/"
        },
        "id": "R9ZL2YCPpL94",
        "outputId": "84173c88-f29c-47dd-b88f-0927c88fa9c1"
      },
      "source": [
        "test_loss, test_acc = model.evaluate(test_images,  test_labels, verbose=1) \r\n",
        "\r\n",
        "print('Test accuracy:', test_acc)"
      ],
      "execution_count": 24,
      "outputs": [
        {
          "output_type": "stream",
          "text": [
            "313/313 [==============================] - 0s 955us/step - loss: 0.1883 - accuracy: 0.9473\n",
            "Test accuracy: 0.9473000168800354\n"
          ],
          "name": "stdout"
        }
      ]
    },
    {
      "cell_type": "code",
      "metadata": {
        "colab": {
          "base_uri": "https://localhost:8080/",
          "height": 295
        },
        "id": "revoYJotpUcq",
        "outputId": "d5195836-a84b-4503-8e4c-3de36c552c89"
      },
      "source": [
        "COLOR = 'green'\r\n",
        "plt.rcParams['text.color'] = COLOR\r\n",
        "plt.rcParams['axes.labelcolor'] = COLOR\r\n",
        "\r\n",
        "def predict(model, image, correct_label):\r\n",
        "    class_names = ['0','1','2','3','4','5','6','7','8','9']\r\n",
        "    prediction = model.predict(np.array([image]))\r\n",
        "    predicted_class = class_names[np.argmax(prediction)]\r\n",
        "\r\n",
        "    show_image(image, class_names[correct_label], predicted_class)\r\n",
        "\r\n",
        "\r\n",
        "def show_image(img, label, guess):\r\n",
        "    plt.figure()\r\n",
        "    plt.imshow(img, cmap=plt.cm.binary)\r\n",
        "    plt.title(\"Excpected : \" + label)\r\n",
        "    plt.xlabel(\"Actual : \" + guess)\r\n",
        "    plt.colorbar()\r\n",
        "    plt.grid(False)\r\n",
        "    plt.show()\r\n",
        "\r\n",
        "\r\n",
        "x = random.randint(0,len(test_images))\r\n",
        "image = test_images[x]\r\n",
        "label = test_labels[x]\r\n",
        "predict(model, image, label)"
      ],
      "execution_count": 34,
      "outputs": [
        {
          "output_type": "display_data",
          "data": {
            "image/png": "[encoded data removed]",
            "text/plain": [
              "<Figure size 432x288 with 2 Axes>"
            ]
          },
          "metadata": {
            "tags": [],
            "needs_background": "light"
          }
        }
      ]
    },
    {
      "cell_type": "code",
      "metadata": {
        "id": "A4F5xE22AR-4"
      },
      "source": [
        ""
      ],
      "execution_count": null,
      "outputs": []
    }
  ]
}